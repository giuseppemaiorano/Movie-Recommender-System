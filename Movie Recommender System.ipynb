{
 "cells": [
  {
   "cell_type": "code",
   "execution_count": 1,
   "id": "2cc2e65c",
   "metadata": {},
   "outputs": [],
   "source": [
    "#Importo le librerie che mi serviranno\n",
    "import pandas as pd\n",
    "from sklearn.feature_extraction.text import TfidfVectorizer\n",
    "from sklearn.neighbors import NearestNeighbors"
   ]
  },
  {
   "cell_type": "code",
   "execution_count": 2,
   "id": "4fb766a1",
   "metadata": {},
   "outputs": [],
   "source": [
    "df = pd.read_csv(\"movies.csv\")"
   ]
  },
  {
   "cell_type": "code",
   "execution_count": 3,
   "id": "298641c9",
   "metadata": {},
   "outputs": [
    {
     "data": {
      "text/html": [
       "<div>\n",
       "<style scoped>\n",
       "    .dataframe tbody tr th:only-of-type {\n",
       "        vertical-align: middle;\n",
       "    }\n",
       "\n",
       "    .dataframe tbody tr th {\n",
       "        vertical-align: top;\n",
       "    }\n",
       "\n",
       "    .dataframe thead th {\n",
       "        text-align: right;\n",
       "    }\n",
       "</style>\n",
       "<table border=\"1\" class=\"dataframe\">\n",
       "  <thead>\n",
       "    <tr style=\"text-align: right;\">\n",
       "      <th></th>\n",
       "      <th>movieId</th>\n",
       "      <th>title</th>\n",
       "      <th>genres</th>\n",
       "    </tr>\n",
       "  </thead>\n",
       "  <tbody>\n",
       "    <tr>\n",
       "      <th>0</th>\n",
       "      <td>1</td>\n",
       "      <td>Toy Story (1995)</td>\n",
       "      <td>Adventure|Animation|Children|Comedy|Fantasy</td>\n",
       "    </tr>\n",
       "    <tr>\n",
       "      <th>1</th>\n",
       "      <td>2</td>\n",
       "      <td>Jumanji (1995)</td>\n",
       "      <td>Adventure|Children|Fantasy</td>\n",
       "    </tr>\n",
       "    <tr>\n",
       "      <th>2</th>\n",
       "      <td>3</td>\n",
       "      <td>Grumpier Old Men (1995)</td>\n",
       "      <td>Comedy|Romance</td>\n",
       "    </tr>\n",
       "    <tr>\n",
       "      <th>3</th>\n",
       "      <td>4</td>\n",
       "      <td>Waiting to Exhale (1995)</td>\n",
       "      <td>Comedy|Drama|Romance</td>\n",
       "    </tr>\n",
       "    <tr>\n",
       "      <th>4</th>\n",
       "      <td>5</td>\n",
       "      <td>Father of the Bride Part II (1995)</td>\n",
       "      <td>Comedy</td>\n",
       "    </tr>\n",
       "    <tr>\n",
       "      <th>5</th>\n",
       "      <td>6</td>\n",
       "      <td>Heat (1995)</td>\n",
       "      <td>Action|Crime|Thriller</td>\n",
       "    </tr>\n",
       "    <tr>\n",
       "      <th>6</th>\n",
       "      <td>7</td>\n",
       "      <td>Sabrina (1995)</td>\n",
       "      <td>Comedy|Romance</td>\n",
       "    </tr>\n",
       "    <tr>\n",
       "      <th>7</th>\n",
       "      <td>8</td>\n",
       "      <td>Tom and Huck (1995)</td>\n",
       "      <td>Adventure|Children</td>\n",
       "    </tr>\n",
       "    <tr>\n",
       "      <th>8</th>\n",
       "      <td>9</td>\n",
       "      <td>Sudden Death (1995)</td>\n",
       "      <td>Action</td>\n",
       "    </tr>\n",
       "    <tr>\n",
       "      <th>9</th>\n",
       "      <td>10</td>\n",
       "      <td>GoldenEye (1995)</td>\n",
       "      <td>Action|Adventure|Thriller</td>\n",
       "    </tr>\n",
       "  </tbody>\n",
       "</table>\n",
       "</div>"
      ],
      "text/plain": [
       "   movieId                               title  \\\n",
       "0        1                    Toy Story (1995)   \n",
       "1        2                      Jumanji (1995)   \n",
       "2        3             Grumpier Old Men (1995)   \n",
       "3        4            Waiting to Exhale (1995)   \n",
       "4        5  Father of the Bride Part II (1995)   \n",
       "5        6                         Heat (1995)   \n",
       "6        7                      Sabrina (1995)   \n",
       "7        8                 Tom and Huck (1995)   \n",
       "8        9                 Sudden Death (1995)   \n",
       "9       10                    GoldenEye (1995)   \n",
       "\n",
       "                                        genres  \n",
       "0  Adventure|Animation|Children|Comedy|Fantasy  \n",
       "1                   Adventure|Children|Fantasy  \n",
       "2                               Comedy|Romance  \n",
       "3                         Comedy|Drama|Romance  \n",
       "4                                       Comedy  \n",
       "5                        Action|Crime|Thriller  \n",
       "6                               Comedy|Romance  \n",
       "7                           Adventure|Children  \n",
       "8                                       Action  \n",
       "9                    Action|Adventure|Thriller  "
      ]
     },
     "execution_count": 3,
     "metadata": {},
     "output_type": "execute_result"
    }
   ],
   "source": [
    "#Stampo le prime dieci righe del dataset\n",
    "df.head(10)"
   ]
  },
  {
   "cell_type": "code",
   "execution_count": 4,
   "id": "80134b36",
   "metadata": {},
   "outputs": [
    {
     "name": "stdout",
     "output_type": "stream",
     "text": [
      "<class 'pandas.core.frame.DataFrame'>\n",
      "RangeIndex: 62423 entries, 0 to 62422\n",
      "Data columns (total 3 columns):\n",
      " #   Column   Non-Null Count  Dtype \n",
      "---  ------   --------------  ----- \n",
      " 0   movieId  62423 non-null  int64 \n",
      " 1   title    62423 non-null  object\n",
      " 2   genres   62423 non-null  object\n",
      "dtypes: int64(1), object(2)\n",
      "memory usage: 1.4+ MB\n"
     ]
    },
    {
     "data": {
      "text/plain": [
       "movieId    0\n",
       "title      0\n",
       "genres     0\n",
       "dtype: int64"
      ]
     },
     "execution_count": 4,
     "metadata": {},
     "output_type": "execute_result"
    }
   ],
   "source": [
    "# Esploro il dataset\n",
    "df.info()\n",
    "df.describe()\n",
    "df.isnull().sum()"
   ]
  },
  {
   "cell_type": "code",
   "execution_count": 5,
   "id": "c6c92845",
   "metadata": {},
   "outputs": [
    {
     "data": {
      "text/plain": [
       "Index(['movieId', 'title', 'genres'], dtype='object')"
      ]
     },
     "execution_count": 5,
     "metadata": {},
     "output_type": "execute_result"
    }
   ],
   "source": [
    "# Visualizzo le colonne del dataset\n",
    "df.columns"
   ]
  },
  {
   "cell_type": "code",
   "execution_count": 6,
   "id": "ec3ffa61",
   "metadata": {},
   "outputs": [
    {
     "data": {
      "text/plain": [
       "(62423, 23)"
      ]
     },
     "execution_count": 6,
     "metadata": {},
     "output_type": "execute_result"
    }
   ],
   "source": [
    "# Per esempio, se abbiamo una colonna 'genres', possiamo usare il TF-IDF per trasformare i dati di testo in vettori\n",
    "from sklearn.feature_extraction.text import TfidfVectorizer\n",
    "\n",
    "# Eseguo TF-IDF sui generi\n",
    "tfidf = TfidfVectorizer(stop_words='english')\n",
    "df['genres'] = df['genres'].fillna('')  # Riempi i valori nulli con stringhe vuote\n",
    "tfidf_matrix = tfidf.fit_transform(df['genres'])\n",
    "\n",
    "# Visualizzo la forma della matrice TF-IDF\n",
    "tfidf_matrix.shape\n"
   ]
  },
  {
   "cell_type": "code",
   "execution_count": 7,
   "id": "476a43ab",
   "metadata": {},
   "outputs": [],
   "source": [
    "# Utilizzo NearestNeighbors per calcolare le similarità\n",
    "knn = NearestNeighbors(metric='cosine', algorithm='brute', n_neighbors=11)\n",
    "knn.fit(tfidf_matrix)\n",
    "\n",
    "# Creo una serie indicizzata dai titoli dei film\n",
    "indices = pd.Series(df.index, index=df['title']).drop_duplicates()\n",
    "\n",
    "# Funzione di raccomandazione con gestione degli errori\n",
    "def get_recommendations(title, model=knn, data=tfidf_matrix, indices=indices):\n",
    "    # Verifico se il titolo è presente nel dataset\n",
    "    if title not in indices:\n",
    "        # Ricerca parziale nel dataset\n",
    "        partial_matches = df[df['title'].str.contains(title, case=False, na=False)]['title']\n",
    "        if partial_matches.empty:\n",
    "            return f\"Il film '{title}' non è presente nel dataset.\"\n",
    "        else:\n",
    "            # Prendo il primo risultato della ricerca parziale\n",
    "            title = partial_matches.iloc[0]\n",
    "    \n",
    "    # Ottengo l'indice del film dato il suo titolo\n",
    "    idx = indices[title]\n",
    "    \n",
    "    # Trovo i 10 vicini più vicini (11 inclusi se stesso)\n",
    "    distances, indices = model.kneighbors(data[idx], n_neighbors=11)\n",
    "    \n",
    "    # Ottengo gli indici dei film consigliati\n",
    "    movie_indices = indices.flatten()[1:]  # Ignora il primo che è il film stesso\n",
    "    \n",
    "    # Restituisco i titoli dei film consigliati\n",
    "    return df['title'].iloc[movie_indices]"
   ]
  },
  {
   "cell_type": "code",
   "execution_count": 8,
   "id": "86924386",
   "metadata": {},
   "outputs": [
    {
     "data": {
      "text/plain": [
       "0                          Toy Story (1995)\n",
       "1                            Jumanji (1995)\n",
       "2                   Grumpier Old Men (1995)\n",
       "3                  Waiting to Exhale (1995)\n",
       "4        Father of the Bride Part II (1995)\n",
       "5                               Heat (1995)\n",
       "6                            Sabrina (1995)\n",
       "7                       Tom and Huck (1995)\n",
       "8                       Sudden Death (1995)\n",
       "9                          GoldenEye (1995)\n",
       "10           American President, The (1995)\n",
       "11       Dracula: Dead and Loving It (1995)\n",
       "12                             Balto (1995)\n",
       "13                             Nixon (1995)\n",
       "14                  Cutthroat Island (1995)\n",
       "15                            Casino (1995)\n",
       "16             Sense and Sensibility (1995)\n",
       "17                        Four Rooms (1995)\n",
       "18    Ace Ventura: When Nature Calls (1995)\n",
       "19                       Money Train (1995)\n",
       "Name: title, dtype: object"
      ]
     },
     "execution_count": 8,
     "metadata": {},
     "output_type": "execute_result"
    }
   ],
   "source": [
    "# Controllo alcuni titoli di film nel dataset\n",
    "df['title'].head(20)"
   ]
  },
  {
   "cell_type": "code",
   "execution_count": 9,
   "id": "837d88a9",
   "metadata": {},
   "outputs": [
    {
     "name": "stdout",
     "output_type": "stream",
     "text": [
      "21326                      Spider (2007)\n",
      "30230                     Company (2002)\n",
      "40965            The Black Angels (1970)\n",
      "17777    Bodyguards and Assassins (2009)\n",
      "30226           Shaolin Intruders (1983)\n",
      "30211                       Shiva (1989)\n",
      "30171                         Run (2013)\n",
      "30107              Gabbar Is Back (2015)\n",
      "30079                 Mercenaries (2011)\n",
      "9804                  TNT Jackson (1974)\n",
      "Name: title, dtype: object\n",
      "30472           Scooby-Doo! Mask of the Blue Falcon (2012)\n",
      "58039                          Here Comes the Grump (2018)\n",
      "57586            Dragons: Dawn Of The Dragon Racers (2014)\n",
      "17431    Asterix and the Vikings (Astérix et les Viking...\n",
      "52826                    Tangled: Before Ever After (2017)\n",
      "22353                                Boxtrolls, The (2014)\n",
      "60800                                     UglyDolls (2019)\n",
      "55898                               Penguin Highway (2018)\n",
      "48614         Puss in Book: Trapped in an Epic Tale (2017)\n",
      "43614                                         Moana (2016)\n",
      "Name: title, dtype: object\n",
      "Il film 'Un film non presente' non è presente nel dataset.\n"
     ]
    }
   ],
   "source": [
    "# Testo il sistema di raccomandazione con vari titoli di film\n",
    "print(get_recommendations('The Godfather'))\n",
    "print(get_recommendations('Toy Story'))\n",
    "print(get_recommendations('Un film non presente'))"
   ]
  },
  {
   "cell_type": "code",
   "execution_count": 10,
   "id": "e406f9c5",
   "metadata": {},
   "outputs": [
    {
     "name": "stdout",
     "output_type": "stream",
     "text": [
      "840                                  Godfather, The (1972)\n",
      "1190                        Godfather: Part II, The (1974)\n",
      "1934                       Godfather: Part III, The (1990)\n",
      "7894                               Tokyo Godfathers (2003)\n",
      "8461                                   3 Godfathers (1948)\n",
      "19261                           Last Godfather, The (2010)\n",
      "20640                               Disco Godfather (1979)\n",
      "24459                            The New Godfathers (1979)\n",
      "25505                           The Black Godfather (1974)\n",
      "25914                              Three Godfathers (1936)\n",
      "33426                                     GodFather (1991)\n",
      "33483                      Battle of the Godfathers (1973)\n",
      "39338                 Onimasa: A Japanese Godfather (1982)\n",
      "46275     The Medici: Godfathers of the Renaissance (2004)\n",
      "48382    Herschell Gordon Lewis: The Godfather of Gore ...\n",
      "53794                          The Godfather Legacy (2012)\n",
      "53803           The Godfather Family: A Look Inside (1990)\n",
      "59391               The Class Reunion 3: Godfathers (2019)\n",
      "60436                           The Black Godfather (2019)\n",
      "61634                                 Our Godfather (2019)\n",
      "Name: title, dtype: object\n",
      "0                                 Toy Story (1995)\n",
      "3021                            Toy Story 2 (1999)\n",
      "14813                           Toy Story 3 (2010)\n",
      "20497                   Toy Story of Terror (2013)\n",
      "22633    Toy Story Toons: Hawaiian Vacation (2011)\n",
      "22634            Toy Story Toons: Small Fry (2011)\n",
      "24062      Toy Story Toons: Partysaurus Rex (2012)\n",
      "24064            Toy Story That Time Forgot (2014)\n",
      "59767                           Toy Story 4 (2019)\n",
      "Name: title, dtype: object\n"
     ]
    }
   ],
   "source": [
    "# Ricerca parziale per \"Godfather\"\n",
    "godfather_titles = df[df['title'].str.contains(\"Godfather\", case=False, na=False)]['title']\n",
    "print(godfather_titles)\n",
    "\n",
    "# Ricerca parziale per \"Toy Story\"\n",
    "toy_story_titles = df[df['title'].str.contains(\"Toy Story\", case=False, na=False)]['title']\n",
    "print(toy_story_titles)"
   ]
  },
  {
   "cell_type": "code",
   "execution_count": 11,
   "id": "f687d1ac",
   "metadata": {},
   "outputs": [
    {
     "name": "stdout",
     "output_type": "stream",
     "text": [
      "15238    Social Network, The (2010)\n",
      "Name: title, dtype: object\n"
     ]
    }
   ],
   "source": [
    "# Ricerca parziale per \"The Social Network\"\n",
    "toy_story_titles = df[df['title'].str.contains(\"Social Network\", case=False, na=False)]['title']\n",
    "print(toy_story_titles)"
   ]
  },
  {
   "cell_type": "code",
   "execution_count": 12,
   "id": "1967138e",
   "metadata": {},
   "outputs": [
    {
     "name": "stdout",
     "output_type": "stream",
     "text": [
      "38102                      Two Men in Town (1973)\n",
      "38076                          The Colonel (2006)\n",
      "42724                              Payroll (1961)\n",
      "5884                                 Sonny (2002)\n",
      "1424                         Donnie Brasco (1997)\n",
      "27847                            The Gypsy (1975)\n",
      "27821    The Case of the Stuttering Bishop (1937)\n",
      "22674                           The Stoker (2010)\n",
      "12897                       Blackbird, The (1926)\n",
      "11077                          Assassin(s) (1997)\n",
      "Name: title, dtype: object\n"
     ]
    }
   ],
   "source": [
    "print(get_recommendations(\"Casino\"))"
   ]
  },
  {
   "cell_type": "code",
   "execution_count": 13,
   "id": "ba6276ea",
   "metadata": {},
   "outputs": [
    {
     "name": "stdout",
     "output_type": "stream",
     "text": [
      "22641         Cambridge Spies (2003)\n",
      "49695                   Shoes (1916)\n",
      "20523      Dallas Buyers Club (2013)\n",
      "31081    Fifteen and Pregnant (1998)\n",
      "49685        Secret Superstar (2017)\n",
      "49683           You Are Alone (2005)\n",
      "6314          This Boy's Life (1993)\n",
      "49708                 Bambule (1969)\n",
      "16068             What Is It? (2005)\n",
      "10833            Edvard Munch (1974)\n",
      "Name: title, dtype: object\n"
     ]
    }
   ],
   "source": [
    "print(get_recommendations(\"Social Network, The\"))"
   ]
  },
  {
   "cell_type": "code",
   "execution_count": 14,
   "id": "cd04165d",
   "metadata": {},
   "outputs": [
    {
     "name": "stdout",
     "output_type": "stream",
     "text": [
      "11237                  Turistas (2006)\n",
      "22311    Force Majeure (Turist) (2014)\n",
      "54975           The Miniaturist (2017)\n",
      "Name: title, dtype: object\n"
     ]
    }
   ],
   "source": [
    "# Ricerca parziale per \"Forza Maggiore\" in originale \"Turist\"\n",
    "toy_story_titles = df[df['title'].str.contains(\"Turist\", case=False, na=False)]['title']\n",
    "print(toy_story_titles)"
   ]
  },
  {
   "cell_type": "code",
   "execution_count": 15,
   "id": "526387be",
   "metadata": {},
   "outputs": [
    {
     "name": "stdout",
     "output_type": "stream",
     "text": [
      "22641         Cambridge Spies (2003)\n",
      "49695                   Shoes (1916)\n",
      "20523      Dallas Buyers Club (2013)\n",
      "31081    Fifteen and Pregnant (1998)\n",
      "49685        Secret Superstar (2017)\n",
      "49683           You Are Alone (2005)\n",
      "6314          This Boy's Life (1993)\n",
      "49708                 Bambule (1969)\n",
      "16068             What Is It? (2005)\n",
      "10833            Edvard Munch (1974)\n",
      "Name: title, dtype: object\n"
     ]
    }
   ],
   "source": [
    "print(get_recommendations(\"Force Majeure\"))"
   ]
  },
  {
   "cell_type": "code",
   "execution_count": 16,
   "id": "7f7ed1db",
   "metadata": {},
   "outputs": [
    {
     "name": "stdout",
     "output_type": "stream",
     "text": [
      "1177    Apocalypse Now (1979)\n",
      "Name: title, dtype: object\n"
     ]
    }
   ],
   "source": [
    "# Ricerca parziale per \"Apocalypse Now\"\n",
    "toy_story_titles = df[df['title'].str.contains(\"Apocalypse now\", case=False, na=False)]['title']\n",
    "print(toy_story_titles)"
   ]
  },
  {
   "cell_type": "code",
   "execution_count": 17,
   "id": "166e7ddd",
   "metadata": {},
   "outputs": [
    {
     "name": "stdout",
     "output_type": "stream",
     "text": [
      "22695                 Beyond the Border (2011)\n",
      "12421    Warlords, The (Tau ming chong) (2007)\n",
      "20234           Cockleshell Heroes, The (1955)\n",
      "22685                        Going Back (2001)\n",
      "12169                      Seas Beneath (1931)\n",
      "6334                  Sink the Bismark! (1960)\n",
      "48309                   The Last Bullet (1995)\n",
      "11964                 Steel Helmet, The (1951)\n",
      "4852                 Behind Enemy Lines (2001)\n",
      "11879                          Beaufort (2007)\n",
      "Name: title, dtype: object\n"
     ]
    }
   ],
   "source": [
    "print(get_recommendations(\"Apocalypse Now\"))"
   ]
  },
  {
   "cell_type": "code",
   "execution_count": 19,
   "id": "9ebbc976",
   "metadata": {},
   "outputs": [
    {
     "name": "stdout",
     "output_type": "stream",
     "text": [
      "17456                  The Hunger Games (2012)\n",
      "12146                            Jumper (2008)\n",
      "32632                    Humanity's End (2009)\n",
      "53251    Jurassic World: Fallen Kingdom (2018)\n",
      "7735            Day After Tomorrow, The (2004)\n",
      "11162                   Children of Men (2006)\n",
      "23249                    Jurassic World (2015)\n",
      "9266                Sound of Thunder, A (2005)\n",
      "24155                Terminator Genisys (2015)\n",
      "10103                           Stealth (2005)\n",
      "Name: title, dtype: object\n"
     ]
    }
   ],
   "source": [
    "print(get_recommendations(\"Children of Men\"))"
   ]
  },
  {
   "cell_type": "code",
   "execution_count": null,
   "id": "f51a63de",
   "metadata": {},
   "outputs": [],
   "source": []
  }
 ],
 "metadata": {
  "kernelspec": {
   "display_name": "Python 3 (ipykernel)",
   "language": "python",
   "name": "python3"
  },
  "language_info": {
   "codemirror_mode": {
    "name": "ipython",
    "version": 3
   },
   "file_extension": ".py",
   "mimetype": "text/x-python",
   "name": "python",
   "nbconvert_exporter": "python",
   "pygments_lexer": "ipython3",
   "version": "3.11.7"
  }
 },
 "nbformat": 4,
 "nbformat_minor": 5
}
